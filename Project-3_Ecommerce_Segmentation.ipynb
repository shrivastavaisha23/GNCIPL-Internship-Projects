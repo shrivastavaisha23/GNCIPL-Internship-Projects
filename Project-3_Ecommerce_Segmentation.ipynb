{
  "cells": [
    {
      "cell_type": "markdown",
      "source": [
        "**PROJECT TITLE** - **E-commerce User Behaviour Segmentation**"
      ],
      "metadata": {
        "id": "mdvP6TFAimRI"
      },
      "id": "mdvP6TFAimRI"
    },
    {
      "cell_type": "markdown",
      "source": [
        "PRESENTED BY- ISHA SHRIVASTAVA"
      ],
      "metadata": {
        "id": "Qz2r7Ff0i-Dm"
      },
      "id": "Qz2r7Ff0i-Dm"
    },
    {
      "cell_type": "markdown",
      "source": [
        "Project Domain- E-commerce Segmentation\n"
      ],
      "metadata": {
        "id": "tzDEQAfAjHfE"
      },
      "id": "tzDEQAfAjHfE"
    },
    {
      "cell_type": "markdown",
      "source": [
        "\n",
        "Project Summary-\n",
        "\n",
        "This project focuses on E-commerce User Behaviour Segmentation using the Online Retail dataset. The initial step involved loading the data, followed by a thorough cleaning process where missing customer IDs were removed, invalid quantities and unit prices were filtered out, data types were corrected (specifically for InvoiceDate and CustomerID), and duplicate entries were dropped. Subsequently, Feature Engineering was performed to calculate the Recency, Frequency, and Monetary (RFM) values for each customer, providing key metrics for segmentation. These RFM features were then scaled using StandardScaler in the Preprocessing stage. Hierarchical Clustering was applied to the scaled data to group customers into distinct segments, and the resulting clusters were visualized using a count plot and an interactive 3D scatter plot to understand their distribution and characteristics. The quality of the clusters was evaluated using standard metrics like Silhouette, Davies-Bouldin, and Calinski-Harabasz scores. Finally, the project concluded with gaining business insights by profiling each cluster based on their average RFM values, identifying segments such as Loyal & Valuable customers, Lost/Inactive customers, Occasional buyers, and New customers. The RFM table with cluster assignments was then saved for further use.\n"
      ],
      "metadata": {
        "id": "WuWC8gMZjRSV"
      },
      "id": "WuWC8gMZjRSV"
    },
    {
      "cell_type": "markdown",
      "source": [
        "Problem Statement-\n",
        "\n",
        "The objective of this project is to analyze and segment e-commerce users based on their purchasing behavior using the Online Retail dataset. The goal is to identify distinct customer groups characterized by their Recency, Frequency, and Monetary (RFM) values to enable targeted marketing strategies and improve customer relationship management.\n",
        "\n"
      ],
      "metadata": {
        "id": "mb78ybJ3jnbX"
      },
      "id": "mb78ybJ3jnbX"
    },
    {
      "cell_type": "markdown",
      "source": [
        "LOAD DATASET"
      ],
      "metadata": {
        "id": "vSb00tzSj0q1"
      },
      "id": "vSb00tzSj0q1"
    },
    {
      "cell_type": "code",
      "execution_count": null,
      "id": "90ca8a86",
      "metadata": {
        "id": "90ca8a86",
        "outputId": "663babcf-5c1f-44b0-83d8-0436d9663de0"
      },
      "outputs": [
        {
          "data": {
            "text/html": [
              "<div>\n",
              "<style scoped>\n",
              "    .dataframe tbody tr th:only-of-type {\n",
              "        vertical-align: middle;\n",
              "    }\n",
              "\n",
              "    .dataframe tbody tr th {\n",
              "        vertical-align: top;\n",
              "    }\n",
              "\n",
              "    .dataframe thead th {\n",
              "        text-align: right;\n",
              "    }\n",
              "</style>\n",
              "<table border=\"1\" class=\"dataframe\">\n",
              "  <thead>\n",
              "    <tr style=\"text-align: right;\">\n",
              "      <th></th>\n",
              "      <th>InvoiceNo</th>\n",
              "      <th>StockCode</th>\n",
              "      <th>Description</th>\n",
              "      <th>Quantity</th>\n",
              "      <th>InvoiceDate</th>\n",
              "      <th>UnitPrice</th>\n",
              "      <th>CustomerID</th>\n",
              "      <th>Country</th>\n",
              "    </tr>\n",
              "  </thead>\n",
              "  <tbody>\n",
              "    <tr>\n",
              "      <th>0</th>\n",
              "      <td>536365</td>\n",
              "      <td>85123A</td>\n",
              "      <td>WHITE HANGING HEART T-LIGHT HOLDER</td>\n",
              "      <td>6</td>\n",
              "      <td>2010-12-01 08:26:00</td>\n",
              "      <td>2.55</td>\n",
              "      <td>17850.0</td>\n",
              "      <td>United Kingdom</td>\n",
              "    </tr>\n",
              "    <tr>\n",
              "      <th>1</th>\n",
              "      <td>536365</td>\n",
              "      <td>71053</td>\n",
              "      <td>WHITE METAL LANTERN</td>\n",
              "      <td>6</td>\n",
              "      <td>2010-12-01 08:26:00</td>\n",
              "      <td>3.39</td>\n",
              "      <td>17850.0</td>\n",
              "      <td>United Kingdom</td>\n",
              "    </tr>\n",
              "    <tr>\n",
              "      <th>2</th>\n",
              "      <td>536365</td>\n",
              "      <td>84406B</td>\n",
              "      <td>CREAM CUPID HEARTS COAT HANGER</td>\n",
              "      <td>8</td>\n",
              "      <td>2010-12-01 08:26:00</td>\n",
              "      <td>2.75</td>\n",
              "      <td>17850.0</td>\n",
              "      <td>United Kingdom</td>\n",
              "    </tr>\n",
              "    <tr>\n",
              "      <th>3</th>\n",
              "      <td>536365</td>\n",
              "      <td>84029G</td>\n",
              "      <td>KNITTED UNION FLAG HOT WATER BOTTLE</td>\n",
              "      <td>6</td>\n",
              "      <td>2010-12-01 08:26:00</td>\n",
              "      <td>3.39</td>\n",
              "      <td>17850.0</td>\n",
              "      <td>United Kingdom</td>\n",
              "    </tr>\n",
              "    <tr>\n",
              "      <th>4</th>\n",
              "      <td>536365</td>\n",
              "      <td>84029E</td>\n",
              "      <td>RED WOOLLY HOTTIE WHITE HEART.</td>\n",
              "      <td>6</td>\n",
              "      <td>2010-12-01 08:26:00</td>\n",
              "      <td>3.39</td>\n",
              "      <td>17850.0</td>\n",
              "      <td>United Kingdom</td>\n",
              "    </tr>\n",
              "  </tbody>\n",
              "</table>\n",
              "</div>"
            ],
            "text/plain": [
              "  InvoiceNo StockCode                          Description  Quantity  \\\n",
              "0    536365    85123A   WHITE HANGING HEART T-LIGHT HOLDER         6   \n",
              "1    536365     71053                  WHITE METAL LANTERN         6   \n",
              "2    536365    84406B       CREAM CUPID HEARTS COAT HANGER         8   \n",
              "3    536365    84029G  KNITTED UNION FLAG HOT WATER BOTTLE         6   \n",
              "4    536365    84029E       RED WOOLLY HOTTIE WHITE HEART.         6   \n",
              "\n",
              "          InvoiceDate  UnitPrice  CustomerID         Country  \n",
              "0 2010-12-01 08:26:00       2.55     17850.0  United Kingdom  \n",
              "1 2010-12-01 08:26:00       3.39     17850.0  United Kingdom  \n",
              "2 2010-12-01 08:26:00       2.75     17850.0  United Kingdom  \n",
              "3 2010-12-01 08:26:00       3.39     17850.0  United Kingdom  \n",
              "4 2010-12-01 08:26:00       3.39     17850.0  United Kingdom  "
            ]
          },
          "execution_count": 12,
          "metadata": {},
          "output_type": "execute_result"
        }
      ],
      "source": [
        "import pandas as pd\n",
        "\n",
        "# Load dataset\n",
        "df = pd.read_excel(\"Online Retail.xlsx\")\n",
        "\n",
        "# Show first 5 rows\n",
        "df.head()\n"
      ]
    },
    {
      "cell_type": "markdown",
      "id": "fa63dcc2",
      "metadata": {
        "id": "fa63dcc2"
      },
      "source": [
        "CLEAN DATASET"
      ]
    },
    {
      "cell_type": "code",
      "execution_count": null,
      "id": "1a3692d9",
      "metadata": {
        "id": "1a3692d9",
        "outputId": "5b0353ec-ca1c-4e12-f1e0-9878ad16fa9a"
      },
      "outputs": [
        {
          "name": "stdout",
          "output_type": "stream",
          "text": [
            "Shape after cleaning: (392692, 8)\n",
            "<class 'pandas.core.frame.DataFrame'>\n",
            "Index: 392692 entries, 0 to 541908\n",
            "Data columns (total 8 columns):\n",
            " #   Column       Non-Null Count   Dtype         \n",
            "---  ------       --------------   -----         \n",
            " 0   InvoiceNo    392692 non-null  object        \n",
            " 1   StockCode    392692 non-null  object        \n",
            " 2   Description  392692 non-null  object        \n",
            " 3   Quantity     392692 non-null  int64         \n",
            " 4   InvoiceDate  392692 non-null  datetime64[ns]\n",
            " 5   UnitPrice    392692 non-null  float64       \n",
            " 6   CustomerID   392692 non-null  int64         \n",
            " 7   Country      392692 non-null  object        \n",
            "dtypes: datetime64[ns](1), float64(1), int64(2), object(4)\n",
            "memory usage: 27.0+ MB\n"
          ]
        }
      ],
      "source": [
        "# ---------------- Step 1: Handle missing values ----------------\n",
        "df = df.dropna(subset=['CustomerID'])\n",
        "\n",
        "# ---------------- Step 2: Remove invalid values ----------------\n",
        "df = df[(df['Quantity'] > 0) & (df['UnitPrice'] > 0)]\n",
        "\n",
        "# ---------------- Step 3: Fix data types ----------------\n",
        "df['InvoiceDate'] = pd.to_datetime(df['InvoiceDate'])\n",
        "df['CustomerID'] = df['CustomerID'].astype(int)\n",
        "\n",
        "# ---------------- Step 4: Remove duplicates ----------------\n",
        "df = df.drop_duplicates()\n",
        "\n",
        "# ---------------- Step 5: Check cleaned data ----------------\n",
        "print(\"Shape after cleaning:\", df.shape)\n",
        "df.info()\n"
      ]
    },
    {
      "cell_type": "markdown",
      "id": "ec35ffd2",
      "metadata": {
        "id": "ec35ffd2"
      },
      "source": [
        "FEATURE ENGINEERING (RFM)"
      ]
    },
    {
      "cell_type": "code",
      "execution_count": null,
      "id": "9f3356dd",
      "metadata": {
        "id": "9f3356dd",
        "outputId": "635400e5-0a78-4d74-9984-9778bd75af9d"
      },
      "outputs": [
        {
          "name": "stdout",
          "output_type": "stream",
          "text": [
            "            Recency  Frequency  Monetary\n",
            "CustomerID                              \n",
            "12346           325          1  77183.60\n",
            "12347             1          7   4310.00\n",
            "12348            74          4   1797.24\n",
            "12349            18          1   1757.55\n",
            "12350           309          1    334.40\n"
          ]
        }
      ],
      "source": [
        "import datetime as dt\n",
        "\n",
        "# Find the latest date in the dataset\n",
        "max_date = df['InvoiceDate'].max()\n",
        "\n",
        "# Build RFM Table\n",
        "rfm = df.groupby('CustomerID').agg({\n",
        "    'InvoiceDate': lambda x: (max_date - x.max()).days,    # Recency\n",
        "    'InvoiceNo': 'nunique',                                # Frequency\n",
        "    'Quantity': lambda x: (x * df.loc[x.index, 'UnitPrice']).sum()  # Monetary\n",
        "})\n",
        "\n",
        "# Rename columns\n",
        "rfm.columns = ['Recency', 'Frequency', 'Monetary']\n",
        "\n",
        "# Show first 5 rows\n",
        "print(rfm.head())\n"
      ]
    },
    {
      "cell_type": "markdown",
      "id": "bcb619bb",
      "metadata": {
        "id": "bcb619bb"
      },
      "source": [
        "PREPROCESSING (Scaling)"
      ]
    },
    {
      "cell_type": "code",
      "execution_count": null,
      "id": "227d3928",
      "metadata": {
        "id": "227d3928",
        "outputId": "4d3d10c7-de3b-4191-c684-e55e9c4d1b04"
      },
      "outputs": [
        {
          "name": "stdout",
          "output_type": "stream",
          "text": [
            "Shape of scaled RFM: (4338, 3)\n"
          ]
        }
      ],
      "source": [
        "from sklearn.preprocessing import StandardScaler\n",
        "\n",
        "# Scale the RFM features\n",
        "scaler = StandardScaler()\n",
        "rfm_scaled = scaler.fit_transform(rfm)\n",
        "\n",
        "print(\"Shape of scaled RFM:\", rfm_scaled.shape)\n"
      ]
    },
    {
      "cell_type": "markdown",
      "id": "b40fe8d7",
      "metadata": {
        "id": "b40fe8d7"
      },
      "source": [
        "HIERARCHICAL CLUSTERING"
      ]
    },
    {
      "cell_type": "code",
      "execution_count": null,
      "id": "57a189fe",
      "metadata": {
        "id": "57a189fe",
        "outputId": "e738b4a0-7ee2-417a-b2b7-5a4b0b787a83"
      },
      "outputs": [
        {
          "data": {
            "image/png": "[encoded data removed]",
            "text/plain": [
              "<Figure size 1200x600 with 1 Axes>"
            ]
          },
          "metadata": {},
          "output_type": "display_data"
        },
        {
          "data": {
            "text/html": [
              "<div>\n",
              "<style scoped>\n",
              "    .dataframe tbody tr th:only-of-type {\n",
              "        vertical-align: middle;\n",
              "    }\n",
              "\n",
              "    .dataframe tbody tr th {\n",
              "        vertical-align: top;\n",
              "    }\n",
              "\n",
              "    .dataframe thead th {\n",
              "        text-align: right;\n",
              "    }\n",
              "</style>\n",
              "<table border=\"1\" class=\"dataframe\">\n",
              "  <thead>\n",
              "    <tr style=\"text-align: right;\">\n",
              "      <th></th>\n",
              "      <th>Recency</th>\n",
              "      <th>Frequency</th>\n",
              "      <th>Monetary</th>\n",
              "      <th>Cluster</th>\n",
              "    </tr>\n",
              "    <tr>\n",
              "      <th>CustomerID</th>\n",
              "      <th></th>\n",
              "      <th></th>\n",
              "      <th></th>\n",
              "      <th></th>\n",
              "    </tr>\n",
              "  </thead>\n",
              "  <tbody>\n",
              "    <tr>\n",
              "      <th>12346</th>\n",
              "      <td>325</td>\n",
              "      <td>1</td>\n",
              "      <td>77183.60</td>\n",
              "      <td>3</td>\n",
              "    </tr>\n",
              "    <tr>\n",
              "      <th>12347</th>\n",
              "      <td>1</td>\n",
              "      <td>7</td>\n",
              "      <td>4310.00</td>\n",
              "      <td>4</td>\n",
              "    </tr>\n",
              "    <tr>\n",
              "      <th>12348</th>\n",
              "      <td>74</td>\n",
              "      <td>4</td>\n",
              "      <td>1797.24</td>\n",
              "      <td>4</td>\n",
              "    </tr>\n",
              "    <tr>\n",
              "      <th>12349</th>\n",
              "      <td>18</td>\n",
              "      <td>1</td>\n",
              "      <td>1757.55</td>\n",
              "      <td>4</td>\n",
              "    </tr>\n",
              "    <tr>\n",
              "      <th>12350</th>\n",
              "      <td>309</td>\n",
              "      <td>1</td>\n",
              "      <td>334.40</td>\n",
              "      <td>2</td>\n",
              "    </tr>\n",
              "  </tbody>\n",
              "</table>\n",
              "</div>"
            ],
            "text/plain": [
              "            Recency  Frequency  Monetary  Cluster\n",
              "CustomerID                                       \n",
              "12346           325          1  77183.60        3\n",
              "12347             1          7   4310.00        4\n",
              "12348            74          4   1797.24        4\n",
              "12349            18          1   1757.55        4\n",
              "12350           309          1    334.40        2"
            ]
          },
          "execution_count": 16,
          "metadata": {},
          "output_type": "execute_result"
        }
      ],
      "source": [
        "from scipy.cluster.hierarchy import linkage, dendrogram, fcluster\n",
        "import matplotlib.pyplot as plt\n",
        "\n",
        "# Perform hierarchical clustering\n",
        "Z = linkage(rfm_scaled, method='ward')\n",
        "\n",
        "# Plot dendrogram\n",
        "plt.figure(figsize=(12, 6))\n",
        "plt.title(\"Hierarchical Clustering Dendrogram\")\n",
        "dendrogram(Z, truncate_mode='lastp', p=30, leaf_rotation=45.,\n",
        "           leaf_font_size=10., show_contracted=True)\n",
        "plt.show()\n",
        "\n",
        "# Choose number of clusters (example: 4)\n",
        "clusters = fcluster(Z, 4, criterion='maxclust')\n",
        "\n",
        "# Add cluster labels to RFM\n",
        "rfm['Cluster'] = clusters\n",
        "rfm.head()\n"
      ]
    },
    {
      "cell_type": "markdown",
      "id": "8387b1b9",
      "metadata": {
        "id": "8387b1b9"
      },
      "source": [
        "VISUALIZATION OF CLUSTERS"
      ]
    },
    {
      "cell_type": "code",
      "execution_count": null,
      "id": "3f0948d7",
      "metadata": {
        "id": "3f0948d7",
        "outputId": "665b895d-40fd-4d85-c7c2-4d1540776b50"
      },
      "outputs": [
        {
          "name": "stderr",
          "output_type": "stream",
          "text": [
            "C:\\Users\\ishas\\AppData\\Local\\Temp\\ipykernel_11444\\1336190365.py:4: FutureWarning: \n",
            "\n",
            "Passing `palette` without assigning `hue` is deprecated and will be removed in v0.14.0. Assign the `x` variable to `hue` and set `legend=False` for the same effect.\n",
            "\n",
            "  sns.countplot(x='Cluster', data=rfm, palette='Set2')\n"
          ]
        },
        {
          "data": {
            "image/png": "[encoded data removed]",
            "text/plain": [
              "<Figure size 640x480 with 1 Axes>"
            ]
          },
          "metadata": {},
          "output_type": "display_data"
        }
      ],
      "source": [
        "import seaborn as sns\n",
        "\n",
        "# Count of customers in each cluster\n",
        "sns.countplot(x='Cluster', data=rfm, palette='Set2')\n",
        "plt.title(\"Customer Distribution per Cluster\")\n",
        "plt.show()\n"
      ]
    },
    {
      "cell_type": "markdown",
      "id": "2fb5bfbe",
      "metadata": {
        "id": "2fb5bfbe"
      },
      "source": [
        "INTERACTIVE 3D PLOT (Plotly)"
      ]
    },
    {
      "cell_type": "code",
      "execution_count": null,
      "id": "2a71a29c",
      "metadata": {
        "collapsed": true,
        "id": "2a71a29c"
      },
      "outputs": [],
      "source": [
        "import plotly.express as px\n",
        "\n",
        "fig = px.scatter_3d(\n",
        "    rfm, x='Recency', y='Frequency', z='Monetary',\n",
        "    color='Cluster', symbol='Cluster',\n",
        "    title=\"Customer Segmentation (3D View)\",\n",
        "    opacity=0.7\n",
        ")\n",
        "fig.show()\n"
      ]
    },
    {
      "cell_type": "markdown",
      "id": "69a7322f",
      "metadata": {
        "id": "69a7322f"
      },
      "source": [
        "EVALUATION OF CLUSTERS"
      ]
    },
    {
      "cell_type": "code",
      "execution_count": null,
      "id": "dab00af0",
      "metadata": {
        "id": "dab00af0",
        "outputId": "b603647f-e483-4d14-a82a-ace343886754"
      },
      "outputs": [
        {
          "name": "stdout",
          "output_type": "stream",
          "text": [
            "Silhouette Score: 0.608\n",
            "Davies-Bouldin Index: 0.809\n",
            "Calinski-Harabasz Index: 2926.885\n"
          ]
        }
      ],
      "source": [
        "from sklearn.metrics import silhouette_score, davies_bouldin_score, calinski_harabasz_score\n",
        "\n",
        "# Evaluation scores\n",
        "sil_score = silhouette_score(rfm_scaled, clusters)\n",
        "dbi_score = davies_bouldin_score(rfm_scaled, clusters)\n",
        "chi_score = calinski_harabasz_score(rfm_scaled, clusters)\n",
        "\n",
        "print(\"Silhouette Score:\", round(sil_score, 3))  # Higher is better\n",
        "print(\"Davies-Bouldin Index:\", round(dbi_score, 3))  # Lower is better\n",
        "print(\"Calinski-Harabasz Index:\", round(chi_score, 3))  # Higher is better\n"
      ]
    },
    {
      "cell_type": "markdown",
      "id": "1b632c3b",
      "metadata": {
        "id": "1b632c3b"
      },
      "source": [
        "INSIGHTS (Cluster Profiling)\n",
        "\n",
        "\n"
      ]
    },
    {
      "cell_type": "code",
      "execution_count": null,
      "id": "2b56fb34",
      "metadata": {
        "id": "2b56fb34",
        "outputId": "ac4f101d-af99-4ef0-973d-9cf72e2a46d5"
      },
      "outputs": [
        {
          "name": "stdout",
          "output_type": "stream",
          "text": [
            "         Recency  Frequency   Monetary\n",
            "Cluster                               \n",
            "1           5.73      83.47  111780.64\n",
            "2         240.41       1.64     518.62\n",
            "3          13.63      24.44   14435.46\n",
            "4          40.23       3.89    1479.41\n"
          ]
        },
        {
          "data": {
            "text/html": [
              "<div>\n",
              "<style scoped>\n",
              "    .dataframe tbody tr th:only-of-type {\n",
              "        vertical-align: middle;\n",
              "    }\n",
              "\n",
              "    .dataframe tbody tr th {\n",
              "        vertical-align: top;\n",
              "    }\n",
              "\n",
              "    .dataframe thead th {\n",
              "        text-align: right;\n",
              "    }\n",
              "</style>\n",
              "<table border=\"1\" class=\"dataframe\">\n",
              "  <thead>\n",
              "    <tr style=\"text-align: right;\">\n",
              "      <th></th>\n",
              "      <th>Recency</th>\n",
              "      <th>Frequency</th>\n",
              "      <th>Monetary</th>\n",
              "      <th>NumCustomers</th>\n",
              "    </tr>\n",
              "    <tr>\n",
              "      <th>Cluster</th>\n",
              "      <th></th>\n",
              "      <th></th>\n",
              "      <th></th>\n",
              "      <th></th>\n",
              "    </tr>\n",
              "  </thead>\n",
              "  <tbody>\n",
              "    <tr>\n",
              "      <th>1</th>\n",
              "      <td>5.73</td>\n",
              "      <td>83.47</td>\n",
              "      <td>111780.64</td>\n",
              "      <td>15</td>\n",
              "    </tr>\n",
              "    <tr>\n",
              "      <th>2</th>\n",
              "      <td>240.41</td>\n",
              "      <td>1.64</td>\n",
              "      <td>518.62</td>\n",
              "      <td>1134</td>\n",
              "    </tr>\n",
              "    <tr>\n",
              "      <th>3</th>\n",
              "      <td>13.63</td>\n",
              "      <td>24.44</td>\n",
              "      <td>14435.46</td>\n",
              "      <td>147</td>\n",
              "    </tr>\n",
              "    <tr>\n",
              "      <th>4</th>\n",
              "      <td>40.23</td>\n",
              "      <td>3.89</td>\n",
              "      <td>1479.41</td>\n",
              "      <td>3042</td>\n",
              "    </tr>\n",
              "  </tbody>\n",
              "</table>\n",
              "</div>"
            ],
            "text/plain": [
              "         Recency  Frequency   Monetary  NumCustomers\n",
              "Cluster                                             \n",
              "1           5.73      83.47  111780.64            15\n",
              "2         240.41       1.64     518.62          1134\n",
              "3          13.63      24.44   14435.46           147\n",
              "4          40.23       3.89    1479.41          3042"
            ]
          },
          "execution_count": 20,
          "metadata": {},
          "output_type": "execute_result"
        }
      ],
      "source": [
        "# Average RFM values per cluster\n",
        "cluster_summary = rfm.groupby('Cluster').mean().round(2)\n",
        "print(cluster_summary)\n",
        "\n",
        "# Add size of each cluster\n",
        "cluster_summary['NumCustomers'] = rfm['Cluster'].value_counts().sort_index()\n",
        "cluster_summary\n"
      ]
    },
    {
      "cell_type": "markdown",
      "id": "f3352fcb",
      "metadata": {
        "id": "f3352fcb"
      },
      "source": [
        "Cluster 1: Low Recency, High Frequency, High Monetary → Loyal & Valuable customers\n",
        "\n",
        "Cluster 2: High Recency, Low Frequency, Low Monetary → Lost/Inactive customers\n",
        "\n",
        "Cluster 3: Medium Recency, Low Frequency, Medium Monetary → Occasional buyers\n",
        "\n",
        "Cluster 4: Low Recency, Low Frequency, Low Monetary → New customers"
      ]
    },
    {
      "cell_type": "markdown",
      "source": [
        "SAVE DATASET"
      ],
      "metadata": {
        "id": "bbnlZqZPk6cC"
      },
      "id": "bbnlZqZPk6cC"
    },
    {
      "cell_type": "code",
      "execution_count": null,
      "id": "6731cf66",
      "metadata": {
        "id": "6731cf66"
      },
      "outputs": [],
      "source": [
        "# Save RFM table with clusters to CSV\n",
        "rfm.to_csv(\"customer_segments.csv\", index=True)\n",
        "\n",
        "# Or to Excel\n",
        "rfm.to_excel(\"customer_segments.xlsx\", index=True)\n"
      ]
    },
    {
      "cell_type": "markdown",
      "source": [
        "\n",
        "Conclusion-\n",
        "\n",
        "This project successfully segmented e-commerce customers based on their RFM values using hierarchical clustering. Four distinct customer segments were identified: Loyal & Valuable, Lost/Inactive, Occasional Buyers, and New Customers. This segmentation provides valuable insights into customer behavior and allows for targeted marketing strategies. For example, the Loyal & Valuable segment could be targeted with loyalty programs, while the Lost/Inactive segment could be targeted with win-back campaigns. Further analysis could involve exploring the characteristics of each segment in more detail and developing specific strategies to engage with each group.\n",
        "\n"
      ],
      "metadata": {
        "id": "Jz4uUfvpld2U"
      },
      "id": "Jz4uUfvpld2U"
    }
  ],
  "metadata": {
    "kernelspec": {
      "display_name": "Python 3",
      "language": "python",
      "name": "python3"
    },
    "language_info": {
      "codemirror_mode": {
        "name": "ipython",
        "version": 3
      },
      "file_extension": ".py",
      "mimetype": "text/x-python",
      "name": "python",
      "nbconvert_exporter": "python",
      "pygments_lexer": "ipython3",
      "version": "3.13.0"
    },
    "colab": {
      "provenance": []
    }
  },
  "nbformat": 4,
  "nbformat_minor": 5
}